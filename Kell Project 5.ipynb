{
 "cells": [
  {
   "cell_type": "markdown",
   "id": "noted-hebrew",
   "metadata": {},
   "source": [
    "### MATH 3375 Project 5 - Classification Methods\n",
    "\n",
    "For this project, we will use a data set with fully anonymous data from credit card applications, with a binary response variable (last column) indicating if the application was positive (1) or negative (0). Positive means credit was granted to the applicant. \n",
    "\n",
    "The data set is a subset of rows and columns in the _Credit Approval_ dataset from the Machine Learning Repository at UC Irvine. Specifically, non-binary categorical features (columns) have been removed, and rows with missing data have been removed. The ten predictors include 4 binary features and 6 quantitative features. Feature names and descriptions have been masked to protect confidentiality. \n",
    "\n",
    "Below is documentation related to the data set. \n",
    "\n",
    "    Title: Credit Approval\n",
    "\n",
    "    Past Usage:\n",
    "\n",
    "    See Quinlan,\n",
    "    * \"Simplifying decision trees\", Int J Man-Machine Studies 27,\n",
    "      Dec 1987, pp. 221-234.\n",
    "    * \"C4.5: Programs for Machine Learning\", Morgan Kaufmann, Oct 1992\n",
    "  \n",
    "    Relevant Information:\n",
    "    This file concerns credit card applications.  All attribute names\n",
    "    and values have been changed to meaningless symbols to protect\n",
    "    confidentiality of the data.\n",
    "\n",
    "    Attribute Information:\n",
    "\n",
    "        A1: binary\n",
    "        A2: continuous\n",
    "        A3: continuous\n",
    "        A8: continuous\n",
    "        A9: binary\n",
    "        A10: binary\n",
    "        A11: continuous\n",
    "        A12: binary\n",
    "        A14: continuous\n",
    "        A15: continuous\n",
    "        R1:  binary (response variable - classification)\n"
   ]
  },
  {
   "cell_type": "code",
   "execution_count": 1,
   "id": "instructional-algorithm",
   "metadata": {},
   "outputs": [
    {
     "data": {
      "text/html": [
       "<table>\n",
       "<caption>A data.frame: 6 × 11</caption>\n",
       "<thead>\n",
       "\t<tr><th></th><th scope=col>A1</th><th scope=col>A2</th><th scope=col>A3</th><th scope=col>A8</th><th scope=col>A9</th><th scope=col>A10</th><th scope=col>A11</th><th scope=col>A12</th><th scope=col>A14</th><th scope=col>A15</th><th scope=col>R1</th></tr>\n",
       "\t<tr><th></th><th scope=col>&lt;int&gt;</th><th scope=col>&lt;dbl&gt;</th><th scope=col>&lt;dbl&gt;</th><th scope=col>&lt;dbl&gt;</th><th scope=col>&lt;int&gt;</th><th scope=col>&lt;int&gt;</th><th scope=col>&lt;int&gt;</th><th scope=col>&lt;int&gt;</th><th scope=col>&lt;int&gt;</th><th scope=col>&lt;int&gt;</th><th scope=col>&lt;int&gt;</th></tr>\n",
       "</thead>\n",
       "<tbody>\n",
       "\t<tr><th scope=row>1</th><td>1</td><td>30.83</td><td>0.000</td><td>1.25</td><td>1</td><td>0</td><td>1</td><td>1</td><td>202</td><td>  0</td><td>1</td></tr>\n",
       "\t<tr><th scope=row>2</th><td>0</td><td>58.67</td><td>4.460</td><td>3.04</td><td>1</td><td>0</td><td>6</td><td>1</td><td> 43</td><td>560</td><td>1</td></tr>\n",
       "\t<tr><th scope=row>3</th><td>0</td><td>24.50</td><td>0.500</td><td>1.50</td><td>1</td><td>1</td><td>0</td><td>1</td><td>280</td><td>824</td><td>1</td></tr>\n",
       "\t<tr><th scope=row>4</th><td>1</td><td>27.83</td><td>1.540</td><td>3.75</td><td>1</td><td>0</td><td>5</td><td>0</td><td>100</td><td>  3</td><td>1</td></tr>\n",
       "\t<tr><th scope=row>5</th><td>1</td><td>20.17</td><td>5.625</td><td>1.71</td><td>1</td><td>1</td><td>0</td><td>1</td><td>120</td><td>  0</td><td>1</td></tr>\n",
       "\t<tr><th scope=row>6</th><td>1</td><td>32.08</td><td>4.000</td><td>2.50</td><td>1</td><td>1</td><td>0</td><td>0</td><td>360</td><td>  0</td><td>1</td></tr>\n",
       "</tbody>\n",
       "</table>\n"
      ],
      "text/latex": [
       "A data.frame: 6 × 11\n",
       "\\begin{tabular}{r|lllllllllll}\n",
       "  & A1 & A2 & A3 & A8 & A9 & A10 & A11 & A12 & A14 & A15 & R1\\\\\n",
       "  & <int> & <dbl> & <dbl> & <dbl> & <int> & <int> & <int> & <int> & <int> & <int> & <int>\\\\\n",
       "\\hline\n",
       "\t1 & 1 & 30.83 & 0.000 & 1.25 & 1 & 0 & 1 & 1 & 202 &   0 & 1\\\\\n",
       "\t2 & 0 & 58.67 & 4.460 & 3.04 & 1 & 0 & 6 & 1 &  43 & 560 & 1\\\\\n",
       "\t3 & 0 & 24.50 & 0.500 & 1.50 & 1 & 1 & 0 & 1 & 280 & 824 & 1\\\\\n",
       "\t4 & 1 & 27.83 & 1.540 & 3.75 & 1 & 0 & 5 & 0 & 100 &   3 & 1\\\\\n",
       "\t5 & 1 & 20.17 & 5.625 & 1.71 & 1 & 1 & 0 & 1 & 120 &   0 & 1\\\\\n",
       "\t6 & 1 & 32.08 & 4.000 & 2.50 & 1 & 1 & 0 & 0 & 360 &   0 & 1\\\\\n",
       "\\end{tabular}\n"
      ],
      "text/markdown": [
       "\n",
       "A data.frame: 6 × 11\n",
       "\n",
       "| <!--/--> | A1 &lt;int&gt; | A2 &lt;dbl&gt; | A3 &lt;dbl&gt; | A8 &lt;dbl&gt; | A9 &lt;int&gt; | A10 &lt;int&gt; | A11 &lt;int&gt; | A12 &lt;int&gt; | A14 &lt;int&gt; | A15 &lt;int&gt; | R1 &lt;int&gt; |\n",
       "|---|---|---|---|---|---|---|---|---|---|---|---|\n",
       "| 1 | 1 | 30.83 | 0.000 | 1.25 | 1 | 0 | 1 | 1 | 202 |   0 | 1 |\n",
       "| 2 | 0 | 58.67 | 4.460 | 3.04 | 1 | 0 | 6 | 1 |  43 | 560 | 1 |\n",
       "| 3 | 0 | 24.50 | 0.500 | 1.50 | 1 | 1 | 0 | 1 | 280 | 824 | 1 |\n",
       "| 4 | 1 | 27.83 | 1.540 | 3.75 | 1 | 0 | 5 | 0 | 100 |   3 | 1 |\n",
       "| 5 | 1 | 20.17 | 5.625 | 1.71 | 1 | 1 | 0 | 1 | 120 |   0 | 1 |\n",
       "| 6 | 1 | 32.08 | 4.000 | 2.50 | 1 | 1 | 0 | 0 | 360 |   0 | 1 |\n",
       "\n"
      ],
      "text/plain": [
       "  A1 A2    A3    A8   A9 A10 A11 A12 A14 A15 R1\n",
       "1 1  30.83 0.000 1.25 1  0   1   1   202   0 1 \n",
       "2 0  58.67 4.460 3.04 1  0   6   1    43 560 1 \n",
       "3 0  24.50 0.500 1.50 1  1   0   1   280 824 1 \n",
       "4 1  27.83 1.540 3.75 1  0   5   0   100   3 1 \n",
       "5 1  20.17 5.625 1.71 1  1   0   1   120   0 1 \n",
       "6 1  32.08 4.000 2.50 1  1   0   0   360   0 1 "
      ]
     },
     "metadata": {},
     "output_type": "display_data"
    }
   ],
   "source": [
    "credit_data <- read.delim(\"credit_app_data.txt\",header=TRUE,sep=\"\\t\")\n",
    "head(credit_data)"
   ]
  },
  {
   "cell_type": "markdown",
   "id": "passing-reception",
   "metadata": {},
   "source": [
    "## Tasks\n",
    "\n",
    "### Exploratory Data Analysis\n",
    "\n",
    "#### 1. Identify Predictors for a 2-Dimensional Model\n",
    "\n",
    "Use appropriate plots to identify TWO features in the data set that you think have the best potential as predictors in kNN and SVM models. (Note that this means your two predicting dimensions should separate the positive and negative data points effectively.\n",
    "\n",
    "    "
   ]
  },
  {
   "cell_type": "code",
   "execution_count": 2,
   "id": "cathedral-python",
   "metadata": {},
   "outputs": [
    {
     "data": {
      "image/png": "[encoded data removed]",
      "text/plain": [
       "Plot with title “Scatter Plot of A1 vs. A2”"
      ]
     },
     "metadata": {
      "image/png": {
       "height": 420,
       "width": 420
      }
     },
     "output_type": "display_data"
    },
    {
     "data": {
      "image/png": "[encoded data removed]",
      "text/plain": [
       "Plot with title “Scatter Plot of A1 vs. A3”"
      ]
     },
     "metadata": {
      "image/png": {
       "height": 420,
       "width": 420
      }
     },
     "output_type": "display_data"
    }
   ],
   "source": [
    "par(mfrow=c(3,4))\n",
    "for (i in 1:11) {\n",
    "hist(credit_data[, i], main=paste(\"Histogram of\", names(credit_data)[i]), col=\"blue\", breaks=20)\n",
    "}\n",
    "\n",
    "plot(credit_data$A1, credit_data$A2, col=ifelse(credit_data$R1 == 0, \"red\", \"green\"), \n",
    "     pch=20, main=\"Scatter Plot of A1 vs. A2\", xlab=\"A1\", ylab=\"A2\")\n",
    "legend(\"topright\", legend=c(\"R1=0\", \"R1=1\"), col=c(\"red\", \"green\"), pch=20)\n",
    "\n",
    "\n",
    "plot(credit_data$A1, credit_data$A3, col=ifelse(credit_data$R1 == 0, \"red\", \"green\"), \n",
    "      pch=20, main=\"Scatter Plot of A1 vs. A3\", xlab=\"A1\", ylab=\"A3\")\n",
    " legend(\"topright\", legend=c(\"R1=0\", \"R1=1\"), col=c(\"red\", \"green\"), pch=20)\n",
    "\n"
   ]
  },
  {
   "cell_type": "markdown",
   "id": "marine-traffic",
   "metadata": {},
   "source": [
    "#### 2. Visualize Data Points \n",
    "\n",
    "Using your 2 selected predictors as horizontal and vertical dimensions, plot your data points, identifying the response variable (R1) with _**color-coding and/or different markers**_. Include a legend on the plot that identifies which points represent 'Credit Granted' (positive) and 'Credit Not Granted' (negative)."
   ]
  },
  {
   "cell_type": "code",
   "execution_count": 3,
   "id": "light-patient",
   "metadata": {},
   "outputs": [
    {
     "data": {
      "image/png": "[encoded data removed]",
      "text/plain": [
       "Plot with title “Scatter Plot of A1 vs. A2”"
      ]
     },
     "metadata": {
      "image/png": {
       "height": 420,
       "width": 420
      }
     },
     "output_type": "display_data"
    },
    {
     "data": {
      "image/png": "[encoded data removed]",
      "text/plain": [
       "Plot with title “Scatter Plot of A1 vs. A3”"
      ]
     },
     "metadata": {
      "image/png": {
       "height": 420,
       "width": 420
      }
     },
     "output_type": "display_data"
    }
   ],
   "source": [
    "#Put code for Exercise 2 in this cell. You may add additional cells if you like.\n",
    "shapes = c(16,17)\n",
    "\n",
    "plot(credit_data$A1, credit_data$A2, col=ifelse(credit_data$R1 == 0, \"red\", \"green\"), \n",
    "     pch=shapes, main=\"Scatter Plot of A1 vs. A2\", xlab=\"A1\", ylab=\"A2\")\n",
    "legend(\"topright\", legend=c(\"Credit Granted\", \"Credit not Granted\"), col=c(\"red\", \"green\"), pch=shapes)\n",
    "\n",
    "\n",
    "plot(credit_data$A1, credit_data$A3, col=ifelse(credit_data$R1 == 0, \"red\", \"green\"), \n",
    "      pch=shapes, main=\"Scatter Plot of A1 vs. A3\", xlab=\"A1\", ylab=\"A3\")\n",
    " legend(\"topright\", legend=c(\"Credit Granted\", \"Credit Not Granted\"), col=c(\"red\", \"green\"), pch=shapes)\n",
    "\n"
   ]
  },
  {
   "cell_type": "markdown",
   "id": "electric-purpose",
   "metadata": {},
   "source": [
    "### Partitioning Data\n",
    "\n",
    "#### 3. Partition the data set into training and test sets.\n",
    "\n",
    "Partition the data set into a training set (80% of the data) and a test set (20% of the data).  Note that you should train your model(s) _**using ONLY the training data**.  We are saving the test data set to evaluate performance of the models._"
   ]
  },
  {
   "cell_type": "code",
   "execution_count": 4,
   "id": "deluxe-azerbaijan",
   "metadata": {},
   "outputs": [
    {
     "data": {
      "text/html": [
       "<table>\n",
       "<caption>A data.frame: 6 × 11</caption>\n",
       "<thead>\n",
       "\t<tr><th></th><th scope=col>A1</th><th scope=col>A2</th><th scope=col>A3</th><th scope=col>A8</th><th scope=col>A9</th><th scope=col>A10</th><th scope=col>A11</th><th scope=col>A12</th><th scope=col>A14</th><th scope=col>A15</th><th scope=col>R1</th></tr>\n",
       "\t<tr><th></th><th scope=col>&lt;int&gt;</th><th scope=col>&lt;dbl&gt;</th><th scope=col>&lt;dbl&gt;</th><th scope=col>&lt;dbl&gt;</th><th scope=col>&lt;int&gt;</th><th scope=col>&lt;int&gt;</th><th scope=col>&lt;int&gt;</th><th scope=col>&lt;int&gt;</th><th scope=col>&lt;int&gt;</th><th scope=col>&lt;int&gt;</th><th scope=col>&lt;int&gt;</th></tr>\n",
       "</thead>\n",
       "<tbody>\n",
       "\t<tr><th scope=row>1</th><td>1</td><td>30.83</td><td>0.000</td><td>1.25</td><td>1</td><td>0</td><td>1</td><td>1</td><td>202</td><td>  0</td><td>1</td></tr>\n",
       "\t<tr><th scope=row>2</th><td>0</td><td>58.67</td><td>4.460</td><td>3.04</td><td>1</td><td>0</td><td>6</td><td>1</td><td> 43</td><td>560</td><td>1</td></tr>\n",
       "\t<tr><th scope=row>3</th><td>0</td><td>24.50</td><td>0.500</td><td>1.50</td><td>1</td><td>1</td><td>0</td><td>1</td><td>280</td><td>824</td><td>1</td></tr>\n",
       "\t<tr><th scope=row>4</th><td>1</td><td>27.83</td><td>1.540</td><td>3.75</td><td>1</td><td>0</td><td>5</td><td>0</td><td>100</td><td>  3</td><td>1</td></tr>\n",
       "\t<tr><th scope=row>5</th><td>1</td><td>20.17</td><td>5.625</td><td>1.71</td><td>1</td><td>1</td><td>0</td><td>1</td><td>120</td><td>  0</td><td>1</td></tr>\n",
       "\t<tr><th scope=row>6</th><td>1</td><td>32.08</td><td>4.000</td><td>2.50</td><td>1</td><td>1</td><td>0</td><td>0</td><td>360</td><td>  0</td><td>1</td></tr>\n",
       "</tbody>\n",
       "</table>\n"
      ],
      "text/latex": [
       "A data.frame: 6 × 11\n",
       "\\begin{tabular}{r|lllllllllll}\n",
       "  & A1 & A2 & A3 & A8 & A9 & A10 & A11 & A12 & A14 & A15 & R1\\\\\n",
       "  & <int> & <dbl> & <dbl> & <dbl> & <int> & <int> & <int> & <int> & <int> & <int> & <int>\\\\\n",
       "\\hline\n",
       "\t1 & 1 & 30.83 & 0.000 & 1.25 & 1 & 0 & 1 & 1 & 202 &   0 & 1\\\\\n",
       "\t2 & 0 & 58.67 & 4.460 & 3.04 & 1 & 0 & 6 & 1 &  43 & 560 & 1\\\\\n",
       "\t3 & 0 & 24.50 & 0.500 & 1.50 & 1 & 1 & 0 & 1 & 280 & 824 & 1\\\\\n",
       "\t4 & 1 & 27.83 & 1.540 & 3.75 & 1 & 0 & 5 & 0 & 100 &   3 & 1\\\\\n",
       "\t5 & 1 & 20.17 & 5.625 & 1.71 & 1 & 1 & 0 & 1 & 120 &   0 & 1\\\\\n",
       "\t6 & 1 & 32.08 & 4.000 & 2.50 & 1 & 1 & 0 & 0 & 360 &   0 & 1\\\\\n",
       "\\end{tabular}\n"
      ],
      "text/markdown": [
       "\n",
       "A data.frame: 6 × 11\n",
       "\n",
       "| <!--/--> | A1 &lt;int&gt; | A2 &lt;dbl&gt; | A3 &lt;dbl&gt; | A8 &lt;dbl&gt; | A9 &lt;int&gt; | A10 &lt;int&gt; | A11 &lt;int&gt; | A12 &lt;int&gt; | A14 &lt;int&gt; | A15 &lt;int&gt; | R1 &lt;int&gt; |\n",
       "|---|---|---|---|---|---|---|---|---|---|---|---|\n",
       "| 1 | 1 | 30.83 | 0.000 | 1.25 | 1 | 0 | 1 | 1 | 202 |   0 | 1 |\n",
       "| 2 | 0 | 58.67 | 4.460 | 3.04 | 1 | 0 | 6 | 1 |  43 | 560 | 1 |\n",
       "| 3 | 0 | 24.50 | 0.500 | 1.50 | 1 | 1 | 0 | 1 | 280 | 824 | 1 |\n",
       "| 4 | 1 | 27.83 | 1.540 | 3.75 | 1 | 0 | 5 | 0 | 100 |   3 | 1 |\n",
       "| 5 | 1 | 20.17 | 5.625 | 1.71 | 1 | 1 | 0 | 1 | 120 |   0 | 1 |\n",
       "| 6 | 1 | 32.08 | 4.000 | 2.50 | 1 | 1 | 0 | 0 | 360 |   0 | 1 |\n",
       "\n"
      ],
      "text/plain": [
       "  A1 A2    A3    A8   A9 A10 A11 A12 A14 A15 R1\n",
       "1 1  30.83 0.000 1.25 1  0   1   1   202   0 1 \n",
       "2 0  58.67 4.460 3.04 1  0   6   1    43 560 1 \n",
       "3 0  24.50 0.500 1.50 1  1   0   1   280 824 1 \n",
       "4 1  27.83 1.540 3.75 1  0   5   0   100   3 1 \n",
       "5 1  20.17 5.625 1.71 1  1   0   1   120   0 1 \n",
       "6 1  32.08 4.000 2.50 1  1   0   0   360   0 1 "
      ]
     },
     "metadata": {},
     "output_type": "display_data"
    }
   ],
   "source": [
    "#Put solution to Exercise 3 in this cell. You may add additional cells if you like.\n",
    "set.seed(3375)\n",
    "\n",
    "head(credit_data)\n",
    "\n",
    "train_rows <- sample(1:nrow(credit_data),523.2)\n",
    "credit_train <- credit_data[train_rows,]\n",
    "credit_test <- credit_data[-train_rows,]"
   ]
  },
  {
   "cell_type": "markdown",
   "id": "mathematical-ranch",
   "metadata": {},
   "source": [
    "### Create 2-Dimensional Models\n",
    "\n",
    "#### 4. Create k-Nearest Neighbors (kNN) Classifiers \n",
    "\n",
    "Using ONLY the 2 predictors that you selected in Task 1, create k-Nearest Neighbors models (from training set only) with at LEAST three different values of k. Use each model to predict the response variable for the data in the test set.  Use appropriate metrics (e.g., accuracy, sensitivity, specificity, confusion matrix, ROC curve with AUC) to decide which value of k has the best performance."
   ]
  },
  {
   "cell_type": "code",
   "execution_count": 5,
   "id": "protective-preliminary",
   "metadata": {},
   "outputs": [],
   "source": [
    "#install.packages(\"class\")\n",
    "library(class)"
   ]
  },
  {
   "cell_type": "code",
   "execution_count": 6,
   "id": "geological-correction",
   "metadata": {},
   "outputs": [
    {
     "data": {
      "text/html": [
       "<table>\n",
       "<caption>A data.frame: 6 × 2</caption>\n",
       "<thead>\n",
       "\t<tr><th></th><th scope=col>credit_knn3_a</th><th scope=col>credit_test.R1</th></tr>\n",
       "\t<tr><th></th><th scope=col>&lt;fct&gt;</th><th scope=col>&lt;int&gt;</th></tr>\n",
       "</thead>\n",
       "<tbody>\n",
       "\t<tr><th scope=row>1</th><td>1</td><td>1</td></tr>\n",
       "\t<tr><th scope=row>2</th><td>1</td><td>1</td></tr>\n",
       "\t<tr><th scope=row>3</th><td>0</td><td>1</td></tr>\n",
       "\t<tr><th scope=row>4</th><td>0</td><td>1</td></tr>\n",
       "\t<tr><th scope=row>5</th><td>0</td><td>1</td></tr>\n",
       "\t<tr><th scope=row>6</th><td>1</td><td>1</td></tr>\n",
       "</tbody>\n",
       "</table>\n"
      ],
      "text/latex": [
       "A data.frame: 6 × 2\n",
       "\\begin{tabular}{r|ll}\n",
       "  & credit\\_knn3\\_a & credit\\_test.R1\\\\\n",
       "  & <fct> & <int>\\\\\n",
       "\\hline\n",
       "\t1 & 1 & 1\\\\\n",
       "\t2 & 1 & 1\\\\\n",
       "\t3 & 0 & 1\\\\\n",
       "\t4 & 0 & 1\\\\\n",
       "\t5 & 0 & 1\\\\\n",
       "\t6 & 1 & 1\\\\\n",
       "\\end{tabular}\n"
      ],
      "text/markdown": [
       "\n",
       "A data.frame: 6 × 2\n",
       "\n",
       "| <!--/--> | credit_knn3_a &lt;fct&gt; | credit_test.R1 &lt;int&gt; |\n",
       "|---|---|---|\n",
       "| 1 | 1 | 1 |\n",
       "| 2 | 1 | 1 |\n",
       "| 3 | 0 | 1 |\n",
       "| 4 | 0 | 1 |\n",
       "| 5 | 0 | 1 |\n",
       "| 6 | 1 | 1 |\n",
       "\n"
      ],
      "text/plain": [
       "  credit_knn3_a credit_test.R1\n",
       "1 1             1             \n",
       "2 1             1             \n",
       "3 0             1             \n",
       "4 0             1             \n",
       "5 0             1             \n",
       "6 1             1             "
      ]
     },
     "metadata": {},
     "output_type": "display_data"
    },
    {
     "data": {
      "text/html": [
       "<table>\n",
       "<caption>A data.frame: 6 × 2</caption>\n",
       "<thead>\n",
       "\t<tr><th></th><th scope=col>credit_knn5_a</th><th scope=col>credit_test.R1</th></tr>\n",
       "\t<tr><th></th><th scope=col>&lt;fct&gt;</th><th scope=col>&lt;int&gt;</th></tr>\n",
       "</thead>\n",
       "<tbody>\n",
       "\t<tr><th scope=row>1</th><td>0</td><td>1</td></tr>\n",
       "\t<tr><th scope=row>2</th><td>1</td><td>1</td></tr>\n",
       "\t<tr><th scope=row>3</th><td>0</td><td>1</td></tr>\n",
       "\t<tr><th scope=row>4</th><td>0</td><td>1</td></tr>\n",
       "\t<tr><th scope=row>5</th><td>0</td><td>1</td></tr>\n",
       "\t<tr><th scope=row>6</th><td>1</td><td>1</td></tr>\n",
       "</tbody>\n",
       "</table>\n"
      ],
      "text/latex": [
       "A data.frame: 6 × 2\n",
       "\\begin{tabular}{r|ll}\n",
       "  & credit\\_knn5\\_a & credit\\_test.R1\\\\\n",
       "  & <fct> & <int>\\\\\n",
       "\\hline\n",
       "\t1 & 0 & 1\\\\\n",
       "\t2 & 1 & 1\\\\\n",
       "\t3 & 0 & 1\\\\\n",
       "\t4 & 0 & 1\\\\\n",
       "\t5 & 0 & 1\\\\\n",
       "\t6 & 1 & 1\\\\\n",
       "\\end{tabular}\n"
      ],
      "text/markdown": [
       "\n",
       "A data.frame: 6 × 2\n",
       "\n",
       "| <!--/--> | credit_knn5_a &lt;fct&gt; | credit_test.R1 &lt;int&gt; |\n",
       "|---|---|---|\n",
       "| 1 | 0 | 1 |\n",
       "| 2 | 1 | 1 |\n",
       "| 3 | 0 | 1 |\n",
       "| 4 | 0 | 1 |\n",
       "| 5 | 0 | 1 |\n",
       "| 6 | 1 | 1 |\n",
       "\n"
      ],
      "text/plain": [
       "  credit_knn5_a credit_test.R1\n",
       "1 0             1             \n",
       "2 1             1             \n",
       "3 0             1             \n",
       "4 0             1             \n",
       "5 0             1             \n",
       "6 1             1             "
      ]
     },
     "metadata": {},
     "output_type": "display_data"
    },
    {
     "data": {
      "text/html": [
       "<table>\n",
       "<caption>A data.frame: 6 × 2</caption>\n",
       "<thead>\n",
       "\t<tr><th></th><th scope=col>credit_knn7_a</th><th scope=col>credit_test.R1</th></tr>\n",
       "\t<tr><th></th><th scope=col>&lt;fct&gt;</th><th scope=col>&lt;int&gt;</th></tr>\n",
       "</thead>\n",
       "<tbody>\n",
       "\t<tr><th scope=row>1</th><td>0</td><td>1</td></tr>\n",
       "\t<tr><th scope=row>2</th><td>1</td><td>1</td></tr>\n",
       "\t<tr><th scope=row>3</th><td>0</td><td>1</td></tr>\n",
       "\t<tr><th scope=row>4</th><td>0</td><td>1</td></tr>\n",
       "\t<tr><th scope=row>5</th><td>0</td><td>1</td></tr>\n",
       "\t<tr><th scope=row>6</th><td>1</td><td>1</td></tr>\n",
       "</tbody>\n",
       "</table>\n"
      ],
      "text/latex": [
       "A data.frame: 6 × 2\n",
       "\\begin{tabular}{r|ll}\n",
       "  & credit\\_knn7\\_a & credit\\_test.R1\\\\\n",
       "  & <fct> & <int>\\\\\n",
       "\\hline\n",
       "\t1 & 0 & 1\\\\\n",
       "\t2 & 1 & 1\\\\\n",
       "\t3 & 0 & 1\\\\\n",
       "\t4 & 0 & 1\\\\\n",
       "\t5 & 0 & 1\\\\\n",
       "\t6 & 1 & 1\\\\\n",
       "\\end{tabular}\n"
      ],
      "text/markdown": [
       "\n",
       "A data.frame: 6 × 2\n",
       "\n",
       "| <!--/--> | credit_knn7_a &lt;fct&gt; | credit_test.R1 &lt;int&gt; |\n",
       "|---|---|---|\n",
       "| 1 | 0 | 1 |\n",
       "| 2 | 1 | 1 |\n",
       "| 3 | 0 | 1 |\n",
       "| 4 | 0 | 1 |\n",
       "| 5 | 0 | 1 |\n",
       "| 6 | 1 | 1 |\n",
       "\n"
      ],
      "text/plain": [
       "  credit_knn7_a credit_test.R1\n",
       "1 0             1             \n",
       "2 1             1             \n",
       "3 0             1             \n",
       "4 0             1             \n",
       "5 0             1             \n",
       "6 1             1             "
      ]
     },
     "metadata": {},
     "output_type": "display_data"
    },
    {
     "data": {
      "text/html": [
       "<dl>\n",
       "\t<dt>$accuracy</dt>\n",
       "\t\t<dd>0.618320610687023</dd>\n",
       "\t<dt>$sensitivity</dt>\n",
       "\t\t<dd>0.58</dd>\n",
       "</dl>\n"
      ],
      "text/latex": [
       "\\begin{description}\n",
       "\\item[\\$accuracy] 0.618320610687023\n",
       "\\item[\\$sensitivity] 0.58\n",
       "\\end{description}\n"
      ],
      "text/markdown": [
       "$accuracy\n",
       ":   0.618320610687023\n",
       "$sensitivity\n",
       ":   0.58\n",
       "\n",
       "\n"
      ],
      "text/plain": [
       "$accuracy\n",
       "[1] 0.6183206\n",
       "\n",
       "$sensitivity\n",
       "[1] 0.58\n"
      ]
     },
     "metadata": {},
     "output_type": "display_data"
    },
    {
     "data": {
      "text/html": [
       "<dl>\n",
       "\t<dt>$accuracy</dt>\n",
       "\t\t<dd>0.641221374045801</dd>\n",
       "\t<dt>$sensitivity</dt>\n",
       "\t\t<dd>0.58</dd>\n",
       "</dl>\n"
      ],
      "text/latex": [
       "\\begin{description}\n",
       "\\item[\\$accuracy] 0.641221374045801\n",
       "\\item[\\$sensitivity] 0.58\n",
       "\\end{description}\n"
      ],
      "text/markdown": [
       "$accuracy\n",
       ":   0.641221374045801\n",
       "$sensitivity\n",
       ":   0.58\n",
       "\n",
       "\n"
      ],
      "text/plain": [
       "$accuracy\n",
       "[1] 0.6412214\n",
       "\n",
       "$sensitivity\n",
       "[1] 0.58\n"
      ]
     },
     "metadata": {},
     "output_type": "display_data"
    },
    {
     "data": {
      "text/html": [
       "<dl>\n",
       "\t<dt>$accuracy</dt>\n",
       "\t\t<dd>0.603053435114504</dd>\n",
       "\t<dt>$sensitivity</dt>\n",
       "\t\t<dd>0.56</dd>\n",
       "</dl>\n"
      ],
      "text/latex": [
       "\\begin{description}\n",
       "\\item[\\$accuracy] 0.603053435114504\n",
       "\\item[\\$sensitivity] 0.56\n",
       "\\end{description}\n"
      ],
      "text/markdown": [
       "$accuracy\n",
       ":   0.603053435114504\n",
       "$sensitivity\n",
       ":   0.56\n",
       "\n",
       "\n"
      ],
      "text/plain": [
       "$accuracy\n",
       "[1] 0.6030534\n",
       "\n",
       "$sensitivity\n",
       "[1] 0.56\n"
      ]
     },
     "metadata": {},
     "output_type": "display_data"
    }
   ],
   "source": [
    "#Put solution to Exercise 4 in this cell. You may add additional cells if you like.\n",
    "\n",
    "credit_knn3_a <- knn(credit_train[,2:3], credit_test[,2:3], cl=credit_train[,11], k = 3)\n",
    "head(data.frame(credit_knn3_a,credit_test$R1))\n",
    "\n",
    "credit_knn5_a <- knn(credit_train[,2:3], credit_test[,2:3], cl=credit_train[,11], k = 5)\n",
    "head(data.frame(credit_knn5_a,credit_test$R1))\n",
    "\n",
    "credit_knn7_a <- knn(credit_train[,2:3], credit_test[,2:3], cl=credit_train[,11], k = 7)\n",
    "head(data.frame(credit_knn7_a,credit_test$R1))\n",
    "\n",
    "# Function to calculate accuracy and sensitivity\n",
    "evaluate_knn_metrics <- function(predictions, actual) {\n",
    "  conf_matrix <- table(Actual = actual, Predicted = predictions)\n",
    "  accuracy <- sum(diag(conf_matrix)) / sum(conf_matrix)\n",
    "  TP <- conf_matrix[2, 2]\n",
    "  FN <- conf_matrix[2, 1]\n",
    "  sensitivity <- TP / (TP + FN)\n",
    "  return(list(accuracy = accuracy, sensitivity = sensitivity))\n",
    "}\n",
    "\n",
    "# Calculate metrics for kNN with k=3\n",
    "knn_metrics_3 <- evaluate_knn_metrics(credit_knn3_a, credit_test$R1)\n",
    "\n",
    "# Calculate metrics for kNN with k=5\n",
    "knn_metrics_5 <- evaluate_knn_metrics(credit_knn5_a, credit_test$R1)\n",
    "\n",
    "# Calculate metrics for kNN with k=7\n",
    "knn_metrics_7 <- evaluate_knn_metrics(credit_knn7_a, credit_test$R1)\n",
    "\n",
    "# Print kNN metrics\n",
    "knn_metrics_3\n",
    "knn_metrics_5\n",
    "knn_metrics_7\n"
   ]
  },
  {
   "cell_type": "markdown",
   "id": "activated-cable",
   "metadata": {},
   "source": [
    "#### 4a. Report Your Results\n",
    "\n",
    "Report the metrics you used to compare your models (give the name AND value of the metric for each model). Identify which value of k gave the best predictions for this data set.\n",
    "\n",
    "where k = 5 gives the best prediction"
   ]
  },
  {
   "cell_type": "markdown",
   "id": "raising-empty",
   "metadata": {},
   "source": [
    "#### 5. Create Support Vector Machine (SVM) Classifiers\n",
    "\n",
    "Again, using only the same 2 predictors as above, create 2 SVM classifiers: One should use a linear kernel and the other should use a radial kernel. Show a plot of the decision boundary for each model.  Again, use each model to predict the response variable for the test data set, and use appropriate metrics to compare the two models."
   ]
  },
  {
   "cell_type": "code",
   "execution_count": 9,
   "id": "super-antibody",
   "metadata": {
    "scrolled": true
   },
   "outputs": [
    {
     "data": {
      "text/plain": [
       "\n",
       "Call:\n",
       "svm(formula = response ~ ., data = data.frame(predictors, response), \n",
       "    kernel = \"linear\")\n",
       "\n",
       "\n",
       "Parameters:\n",
       "   SVM-Type:  C-classification \n",
       " SVM-Kernel:  linear \n",
       "       cost:  1 \n",
       "\n",
       "Number of Support Vectors:  437\n",
       "\n",
       " ( 219 218 )\n",
       "\n",
       "\n",
       "Number of Classes:  2 \n",
       "\n",
       "Levels: \n",
       " 0 1\n",
       "\n",
       "\n"
      ]
     },
     "metadata": {},
     "output_type": "display_data"
    },
    {
     "data": {
      "text/plain": [
       "      Predicted\n",
       "Actual   0   1\n",
       "     0 225  52\n",
       "     1 151  95"
      ]
     },
     "metadata": {},
     "output_type": "display_data"
    },
    {
     "data": {
      "text/html": [
       "0.611854684512428"
      ],
      "text/latex": [
       "0.611854684512428"
      ],
      "text/markdown": [
       "0.611854684512428"
      ],
      "text/plain": [
       "[1] 0.6118547"
      ]
     },
     "metadata": {},
     "output_type": "display_data"
    },
    {
     "data": {
      "text/html": [
       "0.386178861788618"
      ],
      "text/latex": [
       "0.386178861788618"
      ],
      "text/markdown": [
       "0.386178861788618"
      ],
      "text/plain": [
       "[1] 0.3861789"
      ]
     },
     "metadata": {},
     "output_type": "display_data"
    }
   ],
   "source": [
    "#Put solution to Exercise 5 in this cell. You may add additional cells if you like.\n",
    "#install.packages(\"e1071\")\n",
    "library(e1071)\n",
    "#ask about if it should be train set, test set, or whole data set\n",
    "# Define predictors and response variable\n",
    "predictors <- credit_train[, c(\"A2\", \"A3\")]\n",
    "response <- as.factor(ifelse(credit_train$R1 == 1,1,0))\n",
    "\n",
    "svm_model <- svm(response ~ ., data = data.frame(predictors, response), kernel = \"linear\")\n",
    "summary(svm_model)\n",
    "\n",
    "support_vectors <- as.data.frame(predictors[svm_model$index, ])\n",
    "num_support_vectors <- nrow(support_vectors)\n",
    "\n",
    "\n",
    "predicted_values <- predict(svm_model, data.frame(predictors))\n",
    "\n",
    "\n",
    "conf_matrix <- table(Actual = response, Predicted = predicted_values)\n",
    "conf_matrix\n",
    "\n",
    "accuracy <- sum(diag(conf_matrix)) / sum(conf_matrix)\n",
    "\n",
    "\n",
    "TP <- conf_matrix[2, 2]\n",
    "FN <- conf_matrix[2, 1]\n",
    "\n",
    "\n",
    "sensitivity <- TP / (TP + FN)\n",
    "accuracy\n",
    "sensitivity"
   ]
  },
  {
   "cell_type": "code",
   "execution_count": 17,
   "id": "alpha-harbor",
   "metadata": {},
   "outputs": [
    {
     "data": {
      "text/plain": [
       "\n",
       "Call:\n",
       "svm(formula = y ~ ., data = subset_2d, kernel = \"linear\")\n",
       "\n",
       "\n",
       "Parameters:\n",
       "   SVM-Type:  C-classification \n",
       " SVM-Kernel:  linear \n",
       "       cost:  1 \n",
       "\n",
       "Number of Support Vectors:  548\n",
       "\n",
       " ( 274 274 )\n",
       "\n",
       "\n",
       "Number of Classes:  2 \n",
       "\n",
       "Levels: \n",
       " 0 1\n",
       "\n",
       "\n"
      ]
     },
     "metadata": {},
     "output_type": "display_data"
    },
    {
     "data": {
      "text/plain": [
       "\n",
       "Call:\n",
       "svm(formula = y ~ ., data = subset_2d, kernel = \"radial\")\n",
       "\n",
       "\n",
       "Parameters:\n",
       "   SVM-Type:  C-classification \n",
       " SVM-Kernel:  radial \n",
       "       cost:  1 \n",
       "\n",
       "Number of Support Vectors:  528\n",
       "\n",
       " ( 264 264 )\n",
       "\n",
       "\n",
       "Number of Classes:  2 \n",
       "\n",
       "Levels: \n",
       " 0 1\n",
       "\n",
       "\n"
      ]
     },
     "metadata": {},
     "output_type": "display_data"
    },
    {
     "data": {
      "text/plain": [
       "      Predicted\n",
       "Actual   0   1\n",
       "     0 230  47\n",
       "     1 148  98"
      ]
     },
     "metadata": {},
     "output_type": "display_data"
    },
    {
     "data": {
      "text/html": [
       "0.627151051625239"
      ],
      "text/latex": [
       "0.627151051625239"
      ],
      "text/markdown": [
       "0.627151051625239"
      ],
      "text/plain": [
       "[1] 0.6271511"
      ]
     },
     "metadata": {},
     "output_type": "display_data"
    },
    {
     "data": {
      "text/html": [
       "0.398373983739837"
      ],
      "text/latex": [
       "0.398373983739837"
      ],
      "text/markdown": [
       "0.398373983739837"
      ],
      "text/plain": [
       "[1] 0.398374"
      ]
     },
     "metadata": {},
     "output_type": "display_data"
    }
   ],
   "source": [
    "subset_2d = data.frame(credit_data[,c(2,3)], y = as.factor(credit_data$R1))\n",
    "model_svm_tran01 = svm(y ~ ., data = subset_2d, kernel = \"linear\")\n",
    "summary(model_svm_tran01)\n",
    "\n",
    "model_svm_tran02 = svm(y ~ ., data = subset_2d, kernel = \"radial\")\n",
    "summary(model_svm_tran02)\n",
    "\n",
    "\n",
    "predictored <- credit_train[, c(\"A2\", \"A3\")]\n",
    "responsess <- as.factor(ifelse(credit_train$R1 == 1,1,0))\n",
    "predicted_valuesss <- predict(model_svm_tran02, data.frame(predictored))\n",
    "\n",
    "conf_matrixs <- table(Actual = responsess, Predicted = predicted_valuesss)\n",
    "conf_matrixs\n",
    "\n",
    "accuracys <- sum(diag(conf_matrixs)) / sum(conf_matrixs)\n",
    "\n",
    "\n",
    "TPt <- conf_matrixs[2, 2]\n",
    "FNf <- conf_matrixs[2, 1]\n",
    "\n",
    "\n",
    "sensitivityyy <- TPt / (TPt + FNf)\n",
    "accuracys\n",
    "sensitivityyy"
   ]
  },
  {
   "cell_type": "markdown",
   "id": "measured-uruguay",
   "metadata": {},
   "source": [
    "#### 5a. Report Your Results\n",
    "\n",
    "Report the metrics you used to compare the models. Identify which kernel gave the best predictions.\n",
    "\n",
    " the SVM model with a radial kernel appears to perform slightly better than the model with a linear kernel in terms of accuracy and sensitivity. The SVM model with a radial kernel has a higher accuracy of approximately 62.72% compared to 61.19% for the linear kernel. The sensitivity of the radial kernel model is also slightly higher at approximately 39.84% compared to 38.62% for the linear kernel."
   ]
  },
  {
   "cell_type": "markdown",
   "id": "registered-timer",
   "metadata": {},
   "source": [
    "### Create Higher Dimension Models\n",
    "\n",
    "#### 6. Create a kNN Classifier \n",
    "\n",
    "Repeat Task 4 using ALL available features in the data set as predictors.\n"
   ]
  },
  {
   "cell_type": "code",
   "execution_count": 11,
   "id": "specific-convert",
   "metadata": {},
   "outputs": [
    {
     "data": {
      "text/html": [
       "<table>\n",
       "<caption>A data.frame: 6 × 2</caption>\n",
       "<thead>\n",
       "\t<tr><th></th><th scope=col>credit_knn3</th><th scope=col>credit_test.R1</th></tr>\n",
       "\t<tr><th></th><th scope=col>&lt;fct&gt;</th><th scope=col>&lt;int&gt;</th></tr>\n",
       "</thead>\n",
       "<tbody>\n",
       "\t<tr><th scope=row>1</th><td>1</td><td>1</td></tr>\n",
       "\t<tr><th scope=row>2</th><td>1</td><td>1</td></tr>\n",
       "\t<tr><th scope=row>3</th><td>1</td><td>1</td></tr>\n",
       "\t<tr><th scope=row>4</th><td>1</td><td>1</td></tr>\n",
       "\t<tr><th scope=row>5</th><td>0</td><td>1</td></tr>\n",
       "\t<tr><th scope=row>6</th><td>1</td><td>1</td></tr>\n",
       "</tbody>\n",
       "</table>\n"
      ],
      "text/latex": [
       "A data.frame: 6 × 2\n",
       "\\begin{tabular}{r|ll}\n",
       "  & credit\\_knn3 & credit\\_test.R1\\\\\n",
       "  & <fct> & <int>\\\\\n",
       "\\hline\n",
       "\t1 & 1 & 1\\\\\n",
       "\t2 & 1 & 1\\\\\n",
       "\t3 & 1 & 1\\\\\n",
       "\t4 & 1 & 1\\\\\n",
       "\t5 & 0 & 1\\\\\n",
       "\t6 & 1 & 1\\\\\n",
       "\\end{tabular}\n"
      ],
      "text/markdown": [
       "\n",
       "A data.frame: 6 × 2\n",
       "\n",
       "| <!--/--> | credit_knn3 &lt;fct&gt; | credit_test.R1 &lt;int&gt; |\n",
       "|---|---|---|\n",
       "| 1 | 1 | 1 |\n",
       "| 2 | 1 | 1 |\n",
       "| 3 | 1 | 1 |\n",
       "| 4 | 1 | 1 |\n",
       "| 5 | 0 | 1 |\n",
       "| 6 | 1 | 1 |\n",
       "\n"
      ],
      "text/plain": [
       "  credit_knn3 credit_test.R1\n",
       "1 1           1             \n",
       "2 1           1             \n",
       "3 1           1             \n",
       "4 1           1             \n",
       "5 0           1             \n",
       "6 1           1             "
      ]
     },
     "metadata": {},
     "output_type": "display_data"
    },
    {
     "data": {
      "text/html": [
       "<table>\n",
       "<caption>A data.frame: 6 × 2</caption>\n",
       "<thead>\n",
       "\t<tr><th></th><th scope=col>credit_knn5</th><th scope=col>credit_test.R1</th></tr>\n",
       "\t<tr><th></th><th scope=col>&lt;fct&gt;</th><th scope=col>&lt;int&gt;</th></tr>\n",
       "</thead>\n",
       "<tbody>\n",
       "\t<tr><th scope=row>1</th><td>1</td><td>1</td></tr>\n",
       "\t<tr><th scope=row>2</th><td>1</td><td>1</td></tr>\n",
       "\t<tr><th scope=row>3</th><td>1</td><td>1</td></tr>\n",
       "\t<tr><th scope=row>4</th><td>0</td><td>1</td></tr>\n",
       "\t<tr><th scope=row>5</th><td>0</td><td>1</td></tr>\n",
       "\t<tr><th scope=row>6</th><td>1</td><td>1</td></tr>\n",
       "</tbody>\n",
       "</table>\n"
      ],
      "text/latex": [
       "A data.frame: 6 × 2\n",
       "\\begin{tabular}{r|ll}\n",
       "  & credit\\_knn5 & credit\\_test.R1\\\\\n",
       "  & <fct> & <int>\\\\\n",
       "\\hline\n",
       "\t1 & 1 & 1\\\\\n",
       "\t2 & 1 & 1\\\\\n",
       "\t3 & 1 & 1\\\\\n",
       "\t4 & 0 & 1\\\\\n",
       "\t5 & 0 & 1\\\\\n",
       "\t6 & 1 & 1\\\\\n",
       "\\end{tabular}\n"
      ],
      "text/markdown": [
       "\n",
       "A data.frame: 6 × 2\n",
       "\n",
       "| <!--/--> | credit_knn5 &lt;fct&gt; | credit_test.R1 &lt;int&gt; |\n",
       "|---|---|---|\n",
       "| 1 | 1 | 1 |\n",
       "| 2 | 1 | 1 |\n",
       "| 3 | 1 | 1 |\n",
       "| 4 | 0 | 1 |\n",
       "| 5 | 0 | 1 |\n",
       "| 6 | 1 | 1 |\n",
       "\n"
      ],
      "text/plain": [
       "  credit_knn5 credit_test.R1\n",
       "1 1           1             \n",
       "2 1           1             \n",
       "3 1           1             \n",
       "4 0           1             \n",
       "5 0           1             \n",
       "6 1           1             "
      ]
     },
     "metadata": {},
     "output_type": "display_data"
    },
    {
     "data": {
      "text/html": [
       "<table>\n",
       "<caption>A data.frame: 6 × 2</caption>\n",
       "<thead>\n",
       "\t<tr><th></th><th scope=col>credit_knn7</th><th scope=col>credit_test.R1</th></tr>\n",
       "\t<tr><th></th><th scope=col>&lt;fct&gt;</th><th scope=col>&lt;int&gt;</th></tr>\n",
       "</thead>\n",
       "<tbody>\n",
       "\t<tr><th scope=row>1</th><td>1</td><td>1</td></tr>\n",
       "\t<tr><th scope=row>2</th><td>1</td><td>1</td></tr>\n",
       "\t<tr><th scope=row>3</th><td>1</td><td>1</td></tr>\n",
       "\t<tr><th scope=row>4</th><td>0</td><td>1</td></tr>\n",
       "\t<tr><th scope=row>5</th><td>0</td><td>1</td></tr>\n",
       "\t<tr><th scope=row>6</th><td>1</td><td>1</td></tr>\n",
       "</tbody>\n",
       "</table>\n"
      ],
      "text/latex": [
       "A data.frame: 6 × 2\n",
       "\\begin{tabular}{r|ll}\n",
       "  & credit\\_knn7 & credit\\_test.R1\\\\\n",
       "  & <fct> & <int>\\\\\n",
       "\\hline\n",
       "\t1 & 1 & 1\\\\\n",
       "\t2 & 1 & 1\\\\\n",
       "\t3 & 1 & 1\\\\\n",
       "\t4 & 0 & 1\\\\\n",
       "\t5 & 0 & 1\\\\\n",
       "\t6 & 1 & 1\\\\\n",
       "\\end{tabular}\n"
      ],
      "text/markdown": [
       "\n",
       "A data.frame: 6 × 2\n",
       "\n",
       "| <!--/--> | credit_knn7 &lt;fct&gt; | credit_test.R1 &lt;int&gt; |\n",
       "|---|---|---|\n",
       "| 1 | 1 | 1 |\n",
       "| 2 | 1 | 1 |\n",
       "| 3 | 1 | 1 |\n",
       "| 4 | 0 | 1 |\n",
       "| 5 | 0 | 1 |\n",
       "| 6 | 1 | 1 |\n",
       "\n"
      ],
      "text/plain": [
       "  credit_knn7 credit_test.R1\n",
       "1 1           1             \n",
       "2 1           1             \n",
       "3 1           1             \n",
       "4 0           1             \n",
       "5 0           1             \n",
       "6 1           1             "
      ]
     },
     "metadata": {},
     "output_type": "display_data"
    },
    {
     "data": {
      "text/html": [
       "<dl>\n",
       "\t<dt>$accuracy</dt>\n",
       "\t\t<dd>0.67175572519084</dd>\n",
       "\t<dt>$sensitivity</dt>\n",
       "\t\t<dd>0.62</dd>\n",
       "</dl>\n"
      ],
      "text/latex": [
       "\\begin{description}\n",
       "\\item[\\$accuracy] 0.67175572519084\n",
       "\\item[\\$sensitivity] 0.62\n",
       "\\end{description}\n"
      ],
      "text/markdown": [
       "$accuracy\n",
       ":   0.67175572519084\n",
       "$sensitivity\n",
       ":   0.62\n",
       "\n",
       "\n"
      ],
      "text/plain": [
       "$accuracy\n",
       "[1] 0.6717557\n",
       "\n",
       "$sensitivity\n",
       "[1] 0.62\n"
      ]
     },
     "metadata": {},
     "output_type": "display_data"
    },
    {
     "data": {
      "text/html": [
       "<dl>\n",
       "\t<dt>$accuracy</dt>\n",
       "\t\t<dd>0.67175572519084</dd>\n",
       "\t<dt>$sensitivity</dt>\n",
       "\t\t<dd>0.54</dd>\n",
       "</dl>\n"
      ],
      "text/latex": [
       "\\begin{description}\n",
       "\\item[\\$accuracy] 0.67175572519084\n",
       "\\item[\\$sensitivity] 0.54\n",
       "\\end{description}\n"
      ],
      "text/markdown": [
       "$accuracy\n",
       ":   0.67175572519084\n",
       "$sensitivity\n",
       ":   0.54\n",
       "\n",
       "\n"
      ],
      "text/plain": [
       "$accuracy\n",
       "[1] 0.6717557\n",
       "\n",
       "$sensitivity\n",
       "[1] 0.54\n"
      ]
     },
     "metadata": {},
     "output_type": "display_data"
    },
    {
     "data": {
      "text/html": [
       "<dl>\n",
       "\t<dt>$accuracy</dt>\n",
       "\t\t<dd>0.694656488549618</dd>\n",
       "\t<dt>$sensitivity</dt>\n",
       "\t\t<dd>0.52</dd>\n",
       "</dl>\n"
      ],
      "text/latex": [
       "\\begin{description}\n",
       "\\item[\\$accuracy] 0.694656488549618\n",
       "\\item[\\$sensitivity] 0.52\n",
       "\\end{description}\n"
      ],
      "text/markdown": [
       "$accuracy\n",
       ":   0.694656488549618\n",
       "$sensitivity\n",
       ":   0.52\n",
       "\n",
       "\n"
      ],
      "text/plain": [
       "$accuracy\n",
       "[1] 0.6946565\n",
       "\n",
       "$sensitivity\n",
       "[1] 0.52\n"
      ]
     },
     "metadata": {},
     "output_type": "display_data"
    }
   ],
   "source": [
    "#Put solution to Exercise 6 in this cell. You may add additional cells if you like.\n",
    "credit_knn3 <- knn(credit_train[,1:10], credit_test[,1:10], cl=credit_train[,11], k = 3)\n",
    "head(data.frame(credit_knn3,credit_test$R1))\n",
    "\n",
    "credit_knn5 <- knn(credit_train[,1:10], credit_test[,1:10], cl=credit_train[,11], k = 5)\n",
    "head(data.frame(credit_knn5,credit_test$R1))\n",
    "\n",
    "credit_knn7 <- knn(credit_train[,1:10], credit_test[,1:10], cl=credit_train[,11], k = 7)\n",
    "head(data.frame(credit_knn7,credit_test$R1))\n",
    "\n",
    "# Function to calculate accuracy and sensitivity\n",
    "evaluate_knn_metrics <- function(predictions, actual) {\n",
    "  conf_matrix <- table(Actual = actual, Predicted = predictions)\n",
    "  accuracy <- sum(diag(conf_matrix)) / sum(conf_matrix)\n",
    "  TP <- conf_matrix[2, 2]\n",
    "  FN <- conf_matrix[2, 1]\n",
    "  sensitivity <- TP / (TP + FN)\n",
    "  return(list(accuracy = accuracy, sensitivity = sensitivity))\n",
    "}\n",
    "\n",
    "# Calculate metrics for kNN with k=3\n",
    "knn_metrics_3a <- evaluate_knn_metrics(credit_knn3, credit_test$R1)\n",
    "\n",
    "# Calculate metrics for kNN with k=5\n",
    "knn_metrics_5a <- evaluate_knn_metrics(credit_knn5, credit_test$R1)\n",
    "\n",
    "# Calculate metrics for kNN with k=7\n",
    "knn_metrics_7a <- evaluate_knn_metrics(credit_knn7, credit_test$R1)\n",
    "\n",
    "# Print kNN metrics\n",
    "knn_metrics_3a\n",
    "knn_metrics_5a\n",
    "knn_metrics_7a"
   ]
  },
  {
   "cell_type": "markdown",
   "id": "attended-record",
   "metadata": {},
   "source": [
    "#### 6a. Report Your Results\n",
    "\n",
    "These results indicate the performance of the kNN models with different values of k on the test dataset. Based on the metrics, the kNN model with k = 7 has the highest accuracy of approximately 69.47%, while the kNN model with k = 3 has the highest sensitivity of 62.00%. A higher k value (k = 7) can provide better accuracy, while a lower k value (k = 3) can provide better sensitivity. "
   ]
  },
  {
   "cell_type": "markdown",
   "id": "rising-candidate",
   "metadata": {},
   "source": [
    "#### 7. Create an SVM Classifier\n",
    "\n",
    "Repeat Task 5 using ALL available features in the data set as predictors.\n"
   ]
  },
  {
   "cell_type": "code",
   "execution_count": 12,
   "id": "corresponding-store",
   "metadata": {},
   "outputs": [
    {
     "data": {
      "text/plain": [
       "\n",
       "Call:\n",
       "svm(formula = response ~ ., data = data.frame(predictors, response), \n",
       "    kernel = \"linear\")\n",
       "\n",
       "\n",
       "Parameters:\n",
       "   SVM-Type:  C-classification \n",
       " SVM-Kernel:  linear \n",
       "       cost:  1 \n",
       "\n",
       "Number of Support Vectors:  437\n",
       "\n",
       " ( 219 218 )\n",
       "\n",
       "\n",
       "Number of Classes:  2 \n",
       "\n",
       "Levels: \n",
       " 0 1\n",
       "\n",
       "\n"
      ]
     },
     "metadata": {},
     "output_type": "display_data"
    },
    {
     "data": {
      "text/plain": [
       "      Predicted\n",
       "Actual   0   1\n",
       "     0 227  50\n",
       "     1  14 232"
      ]
     },
     "metadata": {},
     "output_type": "display_data"
    },
    {
     "data": {
      "text/html": [
       "0.877629063097514"
      ],
      "text/latex": [
       "0.877629063097514"
      ],
      "text/markdown": [
       "0.877629063097514"
      ],
      "text/plain": [
       "[1] 0.8776291"
      ]
     },
     "metadata": {},
     "output_type": "display_data"
    },
    {
     "data": {
      "text/html": [
       "0.386178861788618"
      ],
      "text/latex": [
       "0.386178861788618"
      ],
      "text/markdown": [
       "0.386178861788618"
      ],
      "text/plain": [
       "[1] 0.3861789"
      ]
     },
     "metadata": {},
     "output_type": "display_data"
    }
   ],
   "source": [
    "#Put solution to Exercise 7 in this cell. You may add additional cells if you like.\n",
    "pred <- credit_train[,1:10]\n",
    "responses <- as.factor(ifelse(credit_train$R1 == 1,1,0))\n",
    "\n",
    "svm_model2 <- svm(responses ~ ., data = data.frame(pred, responses), kernel = \"linear\")\n",
    "summary(svm_model)\n",
    "\n",
    "support_vector <- as.data.frame(pred[svm_model2$index, ])\n",
    "num_support_vector <- nrow(support_vector)\n",
    "\n",
    "\n",
    "predicted_value <- predict(svm_model2, data.frame(pred))\n",
    "\n",
    "\n",
    "conf_matrix2 <- table(Actual = responses, Predicted = predicted_value)\n",
    "conf_matrix2\n",
    "\n",
    "accuracy2 <- sum(diag(conf_matrix2)) / sum(conf_matrix2)\n",
    "\n",
    "\n",
    "TP2 <- conf_matrix[2, 2]\n",
    "FN2 <- conf_matrix[2, 1]\n",
    "\n",
    "\n",
    "sensitivity2 <- TP2 / (TP2 + FN2)\n",
    "accuracy2\n",
    "sensitivity2"
   ]
  },
  {
   "cell_type": "code",
   "execution_count": 22,
   "id": "adaptive-sherman",
   "metadata": {},
   "outputs": [
    {
     "data": {
      "text/plain": [
       "\n",
       "Call:\n",
       "svm(formula = y ~ ., data = subset_2dd, kernel = \"linear\")\n",
       "\n",
       "\n",
       "Parameters:\n",
       "   SVM-Type:  C-classification \n",
       " SVM-Kernel:  linear \n",
       "       cost:  1 \n",
       "\n",
       "Number of Support Vectors:  190\n",
       "\n",
       " ( 98 92 )\n",
       "\n",
       "\n",
       "Number of Classes:  2 \n",
       "\n",
       "Levels: \n",
       " 0 1\n",
       "\n",
       "\n"
      ]
     },
     "metadata": {},
     "output_type": "display_data"
    },
    {
     "data": {
      "text/plain": [
       "\n",
       "Call:\n",
       "svm(formula = y ~ ., data = subset_2dd, kernel = \"radial\")\n",
       "\n",
       "\n",
       "Parameters:\n",
       "   SVM-Type:  C-classification \n",
       " SVM-Kernel:  radial \n",
       "       cost:  1 \n",
       "\n",
       "Number of Support Vectors:  271\n",
       "\n",
       " ( 148 123 )\n",
       "\n",
       "\n",
       "Number of Classes:  2 \n",
       "\n",
       "Levels: \n",
       " 0 1\n",
       "\n",
       "\n"
      ]
     },
     "metadata": {},
     "output_type": "display_data"
    },
    {
     "data": {
      "text/plain": [
       "      Predicted\n",
       "Actual   0   1\n",
       "     0 232  45\n",
       "     1  14 232"
      ]
     },
     "metadata": {},
     "output_type": "display_data"
    },
    {
     "data": {
      "text/html": [
       "0.887189292543021"
      ],
      "text/latex": [
       "0.887189292543021"
      ],
      "text/markdown": [
       "0.887189292543021"
      ],
      "text/plain": [
       "[1] 0.8871893"
      ]
     },
     "metadata": {},
     "output_type": "display_data"
    },
    {
     "data": {
      "text/html": [
       "0.386178861788618"
      ],
      "text/latex": [
       "0.386178861788618"
      ],
      "text/markdown": [
       "0.386178861788618"
      ],
      "text/plain": [
       "[1] 0.3861789"
      ]
     },
     "metadata": {},
     "output_type": "display_data"
    }
   ],
   "source": [
    "subset_2dd = data.frame(credit_data[,1:10], y = as.factor(credit_data$R1))\n",
    "model_svm_tran03 = svm(y ~ ., data = subset_2dd, kernel = \"linear\")\n",
    "summary(model_svm_tran03)\n",
    "\n",
    "model_svm_tran04 = svm(y ~ ., data = subset_2dd, kernel = \"radial\")\n",
    "summary(model_svm_tran04)\n",
    "\n",
    "preds <- credit_train[,1:10]\n",
    "responsees <- as.factor(ifelse(credit_train$R1 == 1,1,0))\n",
    "predicted_valuesz <- predict(model_svm_tran04, data.frame(preds))\n",
    "\n",
    "\n",
    "conf_matrixx <- table(Actual = responsess, Predicted = predicted_valuesz)\n",
    "conf_matrixx \n",
    "\n",
    "accuracies <- sum(diag(conf_matrixx)) / sum(conf_matrixx)\n",
    "\n",
    "\n",
    "TPpp <- conf_matrix[2, 2]\n",
    "FNnn <- conf_matrix[2, 1]\n",
    "\n",
    "\n",
    "sensitivities <- TPpp / (TPpp + FNnn)\n",
    "accuracies\n",
    "sensitivities"
   ]
  },
  {
   "cell_type": "markdown",
   "id": "treated-adams",
   "metadata": {},
   "source": [
    "#### 7a. Report Your Results\n",
    "Both models have similar sensitivity (True Positive Rate) of approximately 38.62%.\n",
    "The SVM model with the radial kernel has a slightly higher accuracy of approximately 88.72%, while the SVM model with the linear kernel has an accuracy of approximately 87.76%. Based on these metrics, the SVM model with the radial kernel appears to perform slightly better in terms of accuracy, although the difference is not substantial. "
   ]
  },
  {
   "cell_type": "markdown",
   "id": "involved-train",
   "metadata": {},
   "source": [
    "##### 8. Create a Decision Tree\n",
    "\n",
    "Using all available features in the data set as predictors, create at least one decision tree. (You may also do more than one tree with different pruning or complexity parameters, but this is not required.) Show a plot of the tree(s) you create. Use the tree(s) to generate predictions for the test data set, and use appropriate metrics to measure how well the tree(s) predict the response variable."
   ]
  },
  {
   "cell_type": "code",
   "execution_count": 14,
   "id": "described-memory",
   "metadata": {},
   "outputs": [
    {
     "name": "stderr",
     "output_type": "stream",
     "text": [
      "Updating HTML index of packages in '.Library'\n",
      "\n",
      "Making 'packages.html' ...\n",
      " done\n",
      "\n",
      "Updating HTML index of packages in '.Library'\n",
      "\n",
      "Making 'packages.html' ...\n",
      " done\n",
      "\n"
     ]
    }
   ],
   "source": [
    "#Put solution to Exercise 8 in this cell. You may add additional cells if you like.\n",
    "#install.packages(\"rpart\")\n",
    "#install.packages(\"rpart.plot\")\n",
    "library(rpart)\n",
    "library(rpart.plot)"
   ]
  },
  {
   "cell_type": "code",
   "execution_count": 15,
   "id": "fixed-shame",
   "metadata": {},
   "outputs": [
    {
     "name": "stdout",
     "output_type": "stream",
     "text": [
      "n= 654 \n",
      "\n",
      "node), split, n, loss, yval, (yprob)\n",
      "      * denotes terminal node\n",
      "\n",
      " 1) root 654 296 0 (0.54740061 0.45259939)  \n",
      "   2) A9< 0.5 304  18 0 (0.94078947 0.05921053) *\n",
      "   3) A9>=0.5 350  72 1 (0.20571429 0.79428571)  \n",
      "     6) A10>=0.5 127  51 1 (0.40157480 0.59842520)  \n",
      "      12) A15< 450 106  50 1 (0.47169811 0.52830189)  \n",
      "        24) A14>=111 69  29 0 (0.57971014 0.42028986)  \n",
      "          48) A14< 212.5 28   7 0 (0.75000000 0.25000000) *\n",
      "          49) A14>=212.5 41  19 1 (0.46341463 0.53658537)  \n",
      "            98) A14>=396.5 12   3 0 (0.75000000 0.25000000) *\n",
      "            99) A14< 396.5 29  10 1 (0.34482759 0.65517241) *\n",
      "        25) A14< 111 37  10 1 (0.27027027 0.72972973)  \n",
      "          50) A15>=10 8   2 0 (0.75000000 0.25000000) *\n",
      "          51) A15< 10 29   4 1 (0.13793103 0.86206897) *\n",
      "      13) A15>=450 21   1 1 (0.04761905 0.95238095) *\n",
      "     7) A10< 0.5 223  21 1 (0.09417040 0.90582960) *\n"
     ]
    },
    {
     "data": {
      "image/png": "[encoded data removed]",
      "text/plain": [
       "plot without title"
      ]
     },
     "metadata": {
      "image/png": {
       "height": 420,
       "width": 420
      }
     },
     "output_type": "display_data"
    }
   ],
   "source": [
    "tran_model_tree <- rpart(R1~. ,data=credit_data, method=\"class\")\n",
    "\n",
    "print(tran_model_tree)\n",
    "\n",
    "rpart.plot(tran_model_tree)"
   ]
  },
  {
   "cell_type": "markdown",
   "id": "checked-prairie",
   "metadata": {},
   "source": [
    "#### 8a. Compare Your 'Best' Models\n",
    "\n",
    "Use metrics to compare your BEST model from each of the above classifier tasks (4, 5, 6, 7, and 8). Of these 5 models, which one has the best performance? You may use metrics you already computed above, or you may compute additional metrics below.\n",
    "\n",
    "Identify your choice for best model; also explain on which metric your decision is based, and why you chose that metric.\n",
    "    \n",
    "The SVM model with the radial kernel achieved the highest accuracy (0.8872).\n",
    "The k-Nearest Neighbors model with k=3 had the highest sensitivity (0.62).\n",
    "The choice of the best model depends on your specific priorities:\n",
    "\n",
    "If maximizing accuracy is the primary goal, the SVM with a radial kernel is the top performer.\n",
    "If you prioritize correctly identifying positive cases (high sensitivity), then k-Nearest Neighbors with k=3 is the best choice if considering all variables in the dataset.\n"
   ]
  },
  {
   "cell_type": "markdown",
   "id": "engaging-damages",
   "metadata": {},
   "source": [
    "### BONUS TASK\n",
    "\n",
    "This task is not required, but it is worth bonus points. \n",
    "\n",
    "Create a logistic regression model using any set of predictors you choose. Determine the threshold that gives you the best classification predictions. Compare this model to the others you discussed in Task 8 above, using the same metrics for comparison. \n",
    "\n",
    "How does the logistic regression model perform relative to the others?"
   ]
  },
  {
   "cell_type": "code",
   "execution_count": null,
   "id": "hungry-douglas",
   "metadata": {},
   "outputs": [],
   "source": [
    "#Put solution to Bonus Task in this cell (NOT REQUIRED)\n"
   ]
  }
 ],
 "metadata": {
  "kernelspec": {
   "display_name": "R",
   "language": "R",
   "name": "ir"
  },
  "language_info": {
   "codemirror_mode": "r",
   "file_extension": ".r",
   "mimetype": "text/x-r-source",
   "name": "R",
   "pygments_lexer": "r",
   "version": "4.0.3"
  }
 },
 "nbformat": 4,
 "nbformat_minor": 5
}
